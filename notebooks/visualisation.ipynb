{
 "metadata": {
  "language_info": {
   "codemirror_mode": {
    "name": "ipython",
    "version": 3
   },
   "file_extension": ".py",
   "mimetype": "text/x-python",
   "name": "python",
   "nbconvert_exporter": "python",
   "pygments_lexer": "ipython3",
   "version": "3.9.2"
  },
  "orig_nbformat": 2,
  "kernelspec": {
   "name": "python392jvsc74a57bd0643021c6f54d17ce29da02af931602c5fd3d4769ccc2fbfb7d237fe4c308db52",
   "display_name": "Python 3.9.2 64-bit"
  }
 },
 "nbformat": 4,
 "nbformat_minor": 2,
 "cells": [
  {
   "source": [
    "# Visualisation of air quality time series"
   ],
   "cell_type": "markdown",
   "metadata": {}
  },
  {
   "source": [
    "### imports"
   ],
   "cell_type": "markdown",
   "metadata": {}
  },
  {
   "cell_type": "code",
   "execution_count": 8,
   "metadata": {},
   "outputs": [],
   "source": [
    "from dateutil.parser import parse \n",
    "import matplotlib.pyplot as plt\n",
    "import seaborn as sns\n",
    "import numpy as np\n",
    "import pandas as pd\n",
    "from datetime import datetime\n",
    "\n",
    "plt.rcParams.update({'figure.figsize': (10, 7)})"
   ]
  },
  {
   "source": [
    "## Import data"
   ],
   "cell_type": "markdown",
   "metadata": {}
  },
  {
   "cell_type": "code",
   "execution_count": 30,
   "metadata": {},
   "outputs": [
    {
     "output_type": "execute_result",
     "data": {
      "text/plain": [
       "             Date_Time CO(GT)  PT08.S1(CO)  NMHC(GT) C6H6(GT)  PT08.S2(NMHC)  \\\n",
       "0  10/03/2004 18.00.00    2,6         1360       150     11,9           1046   \n",
       "1  10/03/2004 19.00.00      2         1292       112      9,4            955   \n",
       "2  10/03/2004 20.00.00    2,2         1402        88      9,0            939   \n",
       "3  10/03/2004 21.00.00    2,2         1376        80      9,2            948   \n",
       "4  10/03/2004 22.00.00    1,6         1272        51      6,5            836   \n",
       "\n",
       "   NOx(GT)  PT08.S3(NOx)  NO2(GT)  PT08.S4(NO2)  PT08.S5(O3)     T    RH  \\\n",
       "0      166          1056      113          1692         1268  13,6  48,9   \n",
       "1      103          1174       92          1559          972  13,3  47,7   \n",
       "2      131          1140      114          1555         1074  11,9  54,0   \n",
       "3      172          1092      122          1584         1203  11,0  60,0   \n",
       "4      131          1205      116          1490         1110  11,2  59,6   \n",
       "\n",
       "       AH  \n",
       "0  0,7578  \n",
       "1  0,7255  \n",
       "2  0,7502  \n",
       "3  0,7867  \n",
       "4  0,7888  "
      ],
      "text/html": "<div>\n<style scoped>\n    .dataframe tbody tr th:only-of-type {\n        vertical-align: middle;\n    }\n\n    .dataframe tbody tr th {\n        vertical-align: top;\n    }\n\n    .dataframe thead th {\n        text-align: right;\n    }\n</style>\n<table border=\"1\" class=\"dataframe\">\n  <thead>\n    <tr style=\"text-align: right;\">\n      <th></th>\n      <th>Date_Time</th>\n      <th>CO(GT)</th>\n      <th>PT08.S1(CO)</th>\n      <th>NMHC(GT)</th>\n      <th>C6H6(GT)</th>\n      <th>PT08.S2(NMHC)</th>\n      <th>NOx(GT)</th>\n      <th>PT08.S3(NOx)</th>\n      <th>NO2(GT)</th>\n      <th>PT08.S4(NO2)</th>\n      <th>PT08.S5(O3)</th>\n      <th>T</th>\n      <th>RH</th>\n      <th>AH</th>\n    </tr>\n  </thead>\n  <tbody>\n    <tr>\n      <th>0</th>\n      <td>10/03/2004 18.00.00</td>\n      <td>2,6</td>\n      <td>1360</td>\n      <td>150</td>\n      <td>11,9</td>\n      <td>1046</td>\n      <td>166</td>\n      <td>1056</td>\n      <td>113</td>\n      <td>1692</td>\n      <td>1268</td>\n      <td>13,6</td>\n      <td>48,9</td>\n      <td>0,7578</td>\n    </tr>\n    <tr>\n      <th>1</th>\n      <td>10/03/2004 19.00.00</td>\n      <td>2</td>\n      <td>1292</td>\n      <td>112</td>\n      <td>9,4</td>\n      <td>955</td>\n      <td>103</td>\n      <td>1174</td>\n      <td>92</td>\n      <td>1559</td>\n      <td>972</td>\n      <td>13,3</td>\n      <td>47,7</td>\n      <td>0,7255</td>\n    </tr>\n    <tr>\n      <th>2</th>\n      <td>10/03/2004 20.00.00</td>\n      <td>2,2</td>\n      <td>1402</td>\n      <td>88</td>\n      <td>9,0</td>\n      <td>939</td>\n      <td>131</td>\n      <td>1140</td>\n      <td>114</td>\n      <td>1555</td>\n      <td>1074</td>\n      <td>11,9</td>\n      <td>54,0</td>\n      <td>0,7502</td>\n    </tr>\n    <tr>\n      <th>3</th>\n      <td>10/03/2004 21.00.00</td>\n      <td>2,2</td>\n      <td>1376</td>\n      <td>80</td>\n      <td>9,2</td>\n      <td>948</td>\n      <td>172</td>\n      <td>1092</td>\n      <td>122</td>\n      <td>1584</td>\n      <td>1203</td>\n      <td>11,0</td>\n      <td>60,0</td>\n      <td>0,7867</td>\n    </tr>\n    <tr>\n      <th>4</th>\n      <td>10/03/2004 22.00.00</td>\n      <td>1,6</td>\n      <td>1272</td>\n      <td>51</td>\n      <td>6,5</td>\n      <td>836</td>\n      <td>131</td>\n      <td>1205</td>\n      <td>116</td>\n      <td>1490</td>\n      <td>1110</td>\n      <td>11,2</td>\n      <td>59,6</td>\n      <td>0,7888</td>\n    </tr>\n  </tbody>\n</table>\n</div>"
     },
     "metadata": {},
     "execution_count": 30
    }
   ],
   "source": [
    "data = pd.read_csv(\"..\\data\\AirQualityUCI.csv\", delimiter=\";\", parse_dates=[[\"Date\", \"Time\"]])\n",
    "data.head()"
   ]
  },
  {
   "source": [
    "## Make Date_Time to Timestamp"
   ],
   "cell_type": "markdown",
   "metadata": {}
  },
  {
   "cell_type": "code",
   "execution_count": 33,
   "metadata": {},
   "outputs": [
    {
     "output_type": "stream",
     "name": "stdout",
     "text": [
      "'date_time' datatype: <class 'pandas._libs.tslibs.timestamps.Timestamp'>\n"
     ]
    }
   ],
   "source": [
    "print(\"'Date' datatype:\", type(data.Date_Time[0]))\n",
    "\n",
    "data.Date_Time = data.Date_Time.apply(lambda x: datetime.strptime(x, '%d/%m/%Y %H.%M.%S'))\n",
    "\n",
    "print(\"'date_time' datatype:\", type(data.Date_Time[0]))"
   ]
  },
  {
   "cell_type": "code",
   "execution_count": 34,
   "metadata": {},
   "outputs": [
    {
     "output_type": "execute_result",
     "data": {
      "text/plain": [
       "                    CO(GT)  PT08.S1(CO)  NMHC(GT) C6H6(GT)  PT08.S2(NMHC)  \\\n",
       "Date_Time                                                                   \n",
       "2004-03-10 18:00:00    2,6         1360       150     11,9           1046   \n",
       "2004-03-10 19:00:00      2         1292       112      9,4            955   \n",
       "2004-03-10 20:00:00    2,2         1402        88      9,0            939   \n",
       "2004-03-10 21:00:00    2,2         1376        80      9,2            948   \n",
       "2004-03-10 22:00:00    1,6         1272        51      6,5            836   \n",
       "...                    ...          ...       ...      ...            ...   \n",
       "2005-04-04 10:00:00    3,1         1314      -200     13,5           1101   \n",
       "2005-04-04 11:00:00    2,4         1163      -200     11,4           1027   \n",
       "2005-04-04 12:00:00    2,4         1142      -200     12,4           1063   \n",
       "2005-04-04 13:00:00    2,1         1003      -200      9,5            961   \n",
       "2005-04-04 14:00:00    2,2         1071      -200     11,9           1047   \n",
       "\n",
       "                     NOx(GT)  PT08.S3(NOx)  NO2(GT)  PT08.S4(NO2)  \\\n",
       "Date_Time                                                           \n",
       "2004-03-10 18:00:00      166          1056      113          1692   \n",
       "2004-03-10 19:00:00      103          1174       92          1559   \n",
       "2004-03-10 20:00:00      131          1140      114          1555   \n",
       "2004-03-10 21:00:00      172          1092      122          1584   \n",
       "2004-03-10 22:00:00      131          1205      116          1490   \n",
       "...                      ...           ...      ...           ...   \n",
       "2005-04-04 10:00:00      472           539      190          1374   \n",
       "2005-04-04 11:00:00      353           604      179          1264   \n",
       "2005-04-04 12:00:00      293           603      175          1241   \n",
       "2005-04-04 13:00:00      235           702      156          1041   \n",
       "2005-04-04 14:00:00      265           654      168          1129   \n",
       "\n",
       "                     PT08.S5(O3)     T    RH      AH  \n",
       "Date_Time                                             \n",
       "2004-03-10 18:00:00         1268  13,6  48,9  0,7578  \n",
       "2004-03-10 19:00:00          972  13,3  47,7  0,7255  \n",
       "2004-03-10 20:00:00         1074  11,9  54,0  0,7502  \n",
       "2004-03-10 21:00:00         1203  11,0  60,0  0,7867  \n",
       "2004-03-10 22:00:00         1110  11,2  59,6  0,7888  \n",
       "...                          ...   ...   ...     ...  \n",
       "2005-04-04 10:00:00         1729  21,9  29,3  0,7568  \n",
       "2005-04-04 11:00:00         1269  24,3  23,7  0,7119  \n",
       "2005-04-04 12:00:00         1092  26,9  18,3  0,6406  \n",
       "2005-04-04 13:00:00          770  28,3  13,5  0,5139  \n",
       "2005-04-04 14:00:00          816  28,5  13,1  0,5028  \n",
       "\n",
       "[9357 rows x 13 columns]"
      ],
      "text/html": "<div>\n<style scoped>\n    .dataframe tbody tr th:only-of-type {\n        vertical-align: middle;\n    }\n\n    .dataframe tbody tr th {\n        vertical-align: top;\n    }\n\n    .dataframe thead th {\n        text-align: right;\n    }\n</style>\n<table border=\"1\" class=\"dataframe\">\n  <thead>\n    <tr style=\"text-align: right;\">\n      <th></th>\n      <th>CO(GT)</th>\n      <th>PT08.S1(CO)</th>\n      <th>NMHC(GT)</th>\n      <th>C6H6(GT)</th>\n      <th>PT08.S2(NMHC)</th>\n      <th>NOx(GT)</th>\n      <th>PT08.S3(NOx)</th>\n      <th>NO2(GT)</th>\n      <th>PT08.S4(NO2)</th>\n      <th>PT08.S5(O3)</th>\n      <th>T</th>\n      <th>RH</th>\n      <th>AH</th>\n    </tr>\n    <tr>\n      <th>Date_Time</th>\n      <th></th>\n      <th></th>\n      <th></th>\n      <th></th>\n      <th></th>\n      <th></th>\n      <th></th>\n      <th></th>\n      <th></th>\n      <th></th>\n      <th></th>\n      <th></th>\n      <th></th>\n    </tr>\n  </thead>\n  <tbody>\n    <tr>\n      <th>2004-03-10 18:00:00</th>\n      <td>2,6</td>\n      <td>1360</td>\n      <td>150</td>\n      <td>11,9</td>\n      <td>1046</td>\n      <td>166</td>\n      <td>1056</td>\n      <td>113</td>\n      <td>1692</td>\n      <td>1268</td>\n      <td>13,6</td>\n      <td>48,9</td>\n      <td>0,7578</td>\n    </tr>\n    <tr>\n      <th>2004-03-10 19:00:00</th>\n      <td>2</td>\n      <td>1292</td>\n      <td>112</td>\n      <td>9,4</td>\n      <td>955</td>\n      <td>103</td>\n      <td>1174</td>\n      <td>92</td>\n      <td>1559</td>\n      <td>972</td>\n      <td>13,3</td>\n      <td>47,7</td>\n      <td>0,7255</td>\n    </tr>\n    <tr>\n      <th>2004-03-10 20:00:00</th>\n      <td>2,2</td>\n      <td>1402</td>\n      <td>88</td>\n      <td>9,0</td>\n      <td>939</td>\n      <td>131</td>\n      <td>1140</td>\n      <td>114</td>\n      <td>1555</td>\n      <td>1074</td>\n      <td>11,9</td>\n      <td>54,0</td>\n      <td>0,7502</td>\n    </tr>\n    <tr>\n      <th>2004-03-10 21:00:00</th>\n      <td>2,2</td>\n      <td>1376</td>\n      <td>80</td>\n      <td>9,2</td>\n      <td>948</td>\n      <td>172</td>\n      <td>1092</td>\n      <td>122</td>\n      <td>1584</td>\n      <td>1203</td>\n      <td>11,0</td>\n      <td>60,0</td>\n      <td>0,7867</td>\n    </tr>\n    <tr>\n      <th>2004-03-10 22:00:00</th>\n      <td>1,6</td>\n      <td>1272</td>\n      <td>51</td>\n      <td>6,5</td>\n      <td>836</td>\n      <td>131</td>\n      <td>1205</td>\n      <td>116</td>\n      <td>1490</td>\n      <td>1110</td>\n      <td>11,2</td>\n      <td>59,6</td>\n      <td>0,7888</td>\n    </tr>\n    <tr>\n      <th>...</th>\n      <td>...</td>\n      <td>...</td>\n      <td>...</td>\n      <td>...</td>\n      <td>...</td>\n      <td>...</td>\n      <td>...</td>\n      <td>...</td>\n      <td>...</td>\n      <td>...</td>\n      <td>...</td>\n      <td>...</td>\n      <td>...</td>\n    </tr>\n    <tr>\n      <th>2005-04-04 10:00:00</th>\n      <td>3,1</td>\n      <td>1314</td>\n      <td>-200</td>\n      <td>13,5</td>\n      <td>1101</td>\n      <td>472</td>\n      <td>539</td>\n      <td>190</td>\n      <td>1374</td>\n      <td>1729</td>\n      <td>21,9</td>\n      <td>29,3</td>\n      <td>0,7568</td>\n    </tr>\n    <tr>\n      <th>2005-04-04 11:00:00</th>\n      <td>2,4</td>\n      <td>1163</td>\n      <td>-200</td>\n      <td>11,4</td>\n      <td>1027</td>\n      <td>353</td>\n      <td>604</td>\n      <td>179</td>\n      <td>1264</td>\n      <td>1269</td>\n      <td>24,3</td>\n      <td>23,7</td>\n      <td>0,7119</td>\n    </tr>\n    <tr>\n      <th>2005-04-04 12:00:00</th>\n      <td>2,4</td>\n      <td>1142</td>\n      <td>-200</td>\n      <td>12,4</td>\n      <td>1063</td>\n      <td>293</td>\n      <td>603</td>\n      <td>175</td>\n      <td>1241</td>\n      <td>1092</td>\n      <td>26,9</td>\n      <td>18,3</td>\n      <td>0,6406</td>\n    </tr>\n    <tr>\n      <th>2005-04-04 13:00:00</th>\n      <td>2,1</td>\n      <td>1003</td>\n      <td>-200</td>\n      <td>9,5</td>\n      <td>961</td>\n      <td>235</td>\n      <td>702</td>\n      <td>156</td>\n      <td>1041</td>\n      <td>770</td>\n      <td>28,3</td>\n      <td>13,5</td>\n      <td>0,5139</td>\n    </tr>\n    <tr>\n      <th>2005-04-04 14:00:00</th>\n      <td>2,2</td>\n      <td>1071</td>\n      <td>-200</td>\n      <td>11,9</td>\n      <td>1047</td>\n      <td>265</td>\n      <td>654</td>\n      <td>168</td>\n      <td>1129</td>\n      <td>816</td>\n      <td>28,5</td>\n      <td>13,1</td>\n      <td>0,5028</td>\n    </tr>\n  </tbody>\n</table>\n<p>9357 rows × 13 columns</p>\n</div>"
     },
     "metadata": {},
     "execution_count": 34
    }
   ],
   "source": [
    "# update index\n",
    "data.set_index(\"Date_Time\")"
   ]
  },
  {
   "cell_type": "code",
   "execution_count": null,
   "metadata": {},
   "outputs": [],
   "source": [
    "plt"
   ]
  }
 ]
}