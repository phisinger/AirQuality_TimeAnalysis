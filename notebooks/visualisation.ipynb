{
 "metadata": {
  "language_info": {
   "codemirror_mode": {
    "name": "ipython",
    "version": 3
   },
   "file_extension": ".py",
   "mimetype": "text/x-python",
   "name": "python",
   "nbconvert_exporter": "python",
   "pygments_lexer": "ipython3",
   "version": "3.9.2"
  },
  "orig_nbformat": 2,
  "kernelspec": {
   "name": "python392jvsc74a57bd0643021c6f54d17ce29da02af931602c5fd3d4769ccc2fbfb7d237fe4c308db52",
   "display_name": "Python 3.9.2 64-bit"
  }
 },
 "nbformat": 4,
 "nbformat_minor": 2,
 "cells": [
  {
   "source": [
    "# Visualisation of air quality time series"
   ],
   "cell_type": "markdown",
   "metadata": {}
  },
  {
   "source": [
    "### imports"
   ],
   "cell_type": "markdown",
   "metadata": {}
  },
  {
   "cell_type": "code",
   "execution_count": 8,
   "metadata": {},
   "outputs": [],
   "source": [
    "from dateutil.parser import parse \n",
    "import matplotlib.pyplot as plt\n",
    "import seaborn as sns\n",
    "import numpy as np\n",
    "import pandas as pd\n",
    "from datetime import datetime\n",
    "\n",
    "plt.rcParams.update({'figure.figsize': (10, 7)})"
   ]
  },
  {
   "source": [
    "## Import data"
   ],
   "cell_type": "markdown",
   "metadata": {}
  },
  {
   "cell_type": "code",
   "execution_count": 19,
   "metadata": {},
   "outputs": [
    {
     "output_type": "execute_result",
     "data": {
      "text/plain": [
       "                Time CO(GT)  PT08.S1(CO)  NMHC(GT) C6H6(GT)  PT08.S2(NMHC)  \\\n",
       "Date                                                                         \n",
       "2004-10-03  18.00.00    2,6         1360       150     11,9           1046   \n",
       "2004-10-03  19.00.00      2         1292       112      9,4            955   \n",
       "2004-10-03  20.00.00    2,2         1402        88      9,0            939   \n",
       "2004-10-03  21.00.00    2,2         1376        80      9,2            948   \n",
       "2004-10-03  22.00.00    1,6         1272        51      6,5            836   \n",
       "\n",
       "            NOx(GT)  PT08.S3(NOx)  NO2(GT)  PT08.S4(NO2)  PT08.S5(O3)     T  \\\n",
       "Date                                                                          \n",
       "2004-10-03      166          1056      113          1692         1268  13,6   \n",
       "2004-10-03      103          1174       92          1559          972  13,3   \n",
       "2004-10-03      131          1140      114          1555         1074  11,9   \n",
       "2004-10-03      172          1092      122          1584         1203  11,0   \n",
       "2004-10-03      131          1205      116          1490         1110  11,2   \n",
       "\n",
       "              RH      AH  \n",
       "Date                      \n",
       "2004-10-03  48,9  0,7578  \n",
       "2004-10-03  47,7  0,7255  \n",
       "2004-10-03  54,0  0,7502  \n",
       "2004-10-03  60,0  0,7867  \n",
       "2004-10-03  59,6  0,7888  "
      ],
      "text/html": "<div>\n<style scoped>\n    .dataframe tbody tr th:only-of-type {\n        vertical-align: middle;\n    }\n\n    .dataframe tbody tr th {\n        vertical-align: top;\n    }\n\n    .dataframe thead th {\n        text-align: right;\n    }\n</style>\n<table border=\"1\" class=\"dataframe\">\n  <thead>\n    <tr style=\"text-align: right;\">\n      <th></th>\n      <th>Time</th>\n      <th>CO(GT)</th>\n      <th>PT08.S1(CO)</th>\n      <th>NMHC(GT)</th>\n      <th>C6H6(GT)</th>\n      <th>PT08.S2(NMHC)</th>\n      <th>NOx(GT)</th>\n      <th>PT08.S3(NOx)</th>\n      <th>NO2(GT)</th>\n      <th>PT08.S4(NO2)</th>\n      <th>PT08.S5(O3)</th>\n      <th>T</th>\n      <th>RH</th>\n      <th>AH</th>\n    </tr>\n    <tr>\n      <th>Date</th>\n      <th></th>\n      <th></th>\n      <th></th>\n      <th></th>\n      <th></th>\n      <th></th>\n      <th></th>\n      <th></th>\n      <th></th>\n      <th></th>\n      <th></th>\n      <th></th>\n      <th></th>\n      <th></th>\n    </tr>\n  </thead>\n  <tbody>\n    <tr>\n      <th>2004-10-03</th>\n      <td>18.00.00</td>\n      <td>2,6</td>\n      <td>1360</td>\n      <td>150</td>\n      <td>11,9</td>\n      <td>1046</td>\n      <td>166</td>\n      <td>1056</td>\n      <td>113</td>\n      <td>1692</td>\n      <td>1268</td>\n      <td>13,6</td>\n      <td>48,9</td>\n      <td>0,7578</td>\n    </tr>\n    <tr>\n      <th>2004-10-03</th>\n      <td>19.00.00</td>\n      <td>2</td>\n      <td>1292</td>\n      <td>112</td>\n      <td>9,4</td>\n      <td>955</td>\n      <td>103</td>\n      <td>1174</td>\n      <td>92</td>\n      <td>1559</td>\n      <td>972</td>\n      <td>13,3</td>\n      <td>47,7</td>\n      <td>0,7255</td>\n    </tr>\n    <tr>\n      <th>2004-10-03</th>\n      <td>20.00.00</td>\n      <td>2,2</td>\n      <td>1402</td>\n      <td>88</td>\n      <td>9,0</td>\n      <td>939</td>\n      <td>131</td>\n      <td>1140</td>\n      <td>114</td>\n      <td>1555</td>\n      <td>1074</td>\n      <td>11,9</td>\n      <td>54,0</td>\n      <td>0,7502</td>\n    </tr>\n    <tr>\n      <th>2004-10-03</th>\n      <td>21.00.00</td>\n      <td>2,2</td>\n      <td>1376</td>\n      <td>80</td>\n      <td>9,2</td>\n      <td>948</td>\n      <td>172</td>\n      <td>1092</td>\n      <td>122</td>\n      <td>1584</td>\n      <td>1203</td>\n      <td>11,0</td>\n      <td>60,0</td>\n      <td>0,7867</td>\n    </tr>\n    <tr>\n      <th>2004-10-03</th>\n      <td>22.00.00</td>\n      <td>1,6</td>\n      <td>1272</td>\n      <td>51</td>\n      <td>6,5</td>\n      <td>836</td>\n      <td>131</td>\n      <td>1205</td>\n      <td>116</td>\n      <td>1490</td>\n      <td>1110</td>\n      <td>11,2</td>\n      <td>59,6</td>\n      <td>0,7888</td>\n    </tr>\n  </tbody>\n</table>\n</div>"
     },
     "metadata": {},
     "execution_count": 19
    }
   ],
   "source": [
    "data = pd.read_csv(\"..\\data\\AirQualityUCI.csv\", delimiter=\";\", parse_dates=[\"Date\"], index_col=\"Date\")\n",
    "data.head()"
   ]
  },
  {
   "source": [
    "## Merge date and time as datetime"
   ],
   "cell_type": "markdown",
   "metadata": {}
  },
  {
   "cell_type": "code",
   "execution_count": 20,
   "metadata": {},
   "outputs": [
    {
     "output_type": "stream",
     "name": "stdout",
     "text": [
      "'Time' datatype: <class 'str'>\n'Date' datatype: <class 'pandas._libs.tslibs.timestamps.Timestamp'>\n'Time' datatype: <class 'pandas._libs.tslibs.timestamps.Timestamp'>\n"
     ]
    }
   ],
   "source": [
    "print(\"'Time' datatype:\", type(data.Time[0]))\n",
    "print(\"'Date' datatype:\", type(data.index[0]))\n",
    "\n",
    "data['Time'] = data['Time'].apply(lambda x: datetime.strptime(x, '%H.%M.%S'))\n",
    "print(\"'Time' datatype:\", type(data.Time[0]))"
   ]
  },
  {
   "cell_type": "code",
   "execution_count": null,
   "metadata": {},
   "outputs": [],
   "source": []
  }
 ]
}